{
 "cells": [
  {
   "cell_type": "markdown",
   "id": "12b5c359",
   "metadata": {},
   "source": [
    "# Data Science Tools and Ecosystem"
   ]
  },
  {
   "cell_type": "markdown",
   "id": "daf0e6c2",
   "metadata": {},
   "source": [
    "## In this notebook, Data Science Tools and Ecosystem are summarized."
   ]
  },
  {
   "cell_type": "markdown",
   "id": "659665a3",
   "metadata": {},
   "source": [
    "**Objectives:**\n",
    "\n",
    "- List popular languages for Data Science  \n",
    "- Identify commonly used libraries in Data Science  \n",
    "- Create tables using Markdown in Jupyter Notebook  \n",
    "- Demonstrate the use of arithmetic expressions in Python  \n",
    "- Share key takeaways from the Data Science Tools and Ecosystem module\n"
   ]
  },
  {
   "cell_type": "markdown",
   "id": "2049ce16",
   "metadata": {},
   "source": [
    "Some of the popular languages that Data Scientists use are:\n",
    "1. Python\n",
    "2. R\n",
    "3. SQL\n",
    "4. Julia"
   ]
  },
  {
   "cell_type": "markdown",
   "id": "8e358032",
   "metadata": {},
   "source": [
    "Some of the commonly used libraries used by Data Scientists include:\n",
    "1. Pandas\n",
    "2. numpy\n",
    "3. matplotlib\n",
    "4. scikit-Learn\n",
    "5. seaborn\n",
    "6. pycaret\n",
    "7. scipy\n",
    "8. Pytorch\n",
    "9. TensorFlow\n"
   ]
  },
  {
   "cell_type": "markdown",
   "id": "a535306d",
   "metadata": {},
   "source": [
    "| Data Science Tools            |\n",
    "|-------------------------------|\n",
    "| Jupyter Notebook              |\n",
    "| RStudio                       |\n",
    "| Visual Studio Code (VS Code) |\n"
   ]
  },
  {
   "cell_type": "markdown",
   "id": "acf202dc",
   "metadata": {},
   "source": [
    "### Below are a few examples of evaluating arithmetic expressions in Python.\n",
    "\n",
    "##### Example of addition\n",
    "3 + 5\n",
    "\n",
    "##### Example of multiplication\n",
    "2 * 6\n",
    "\n",
    "##### Example of exponentiation\n",
    "2 ** 3\n"
   ]
  },
  {
   "cell_type": "code",
   "execution_count": 2,
   "id": "744a207d",
   "metadata": {},
   "outputs": [
    {
     "data": {
      "text/plain": [
       "17"
      ]
     },
     "execution_count": 2,
     "metadata": {},
     "output_type": "execute_result"
    }
   ],
   "source": [
    "#This a simple arithmetic expression to mutiply then add integers\n",
    "(3*4)+5"
   ]
  },
  {
   "cell_type": "code",
   "execution_count": 3,
   "id": "f003ce91",
   "metadata": {},
   "outputs": [
    {
     "name": "stdout",
     "output_type": "stream",
     "text": [
      "3.3333333333333335\n"
     ]
    }
   ],
   "source": [
    "minutes = 200\n",
    "hours= minutes/60 #This will convert 200 minutes to hours by diving by 60\n",
    "print(hours)"
   ]
  },
  {
   "cell_type": "markdown",
   "id": "7cfdf3c2",
   "metadata": {},
   "source": [
    "## Author\n",
    "ARYAN GAUR"
   ]
  },
  {
   "cell_type": "code",
   "execution_count": null,
   "id": "aacc328a",
   "metadata": {},
   "outputs": [],
   "source": []
  }
 ],
 "metadata": {
  "kernelspec": {
   "display_name": "Python 3 (ipykernel)",
   "language": "python",
   "name": "python3"
  },
  "language_info": {
   "codemirror_mode": {
    "name": "ipython",
    "version": 3
   },
   "file_extension": ".py",
   "mimetype": "text/x-python",
   "name": "python",
   "nbconvert_exporter": "python",
   "pygments_lexer": "ipython3",
   "version": "3.11.5"
  }
 },
 "nbformat": 4,
 "nbformat_minor": 5
}
